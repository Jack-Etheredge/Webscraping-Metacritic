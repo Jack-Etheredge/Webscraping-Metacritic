{
 "cells": [
  {
   "cell_type": "markdown",
   "metadata": {
    "focus": false,
    "id": "69b9a648-bcc7-490d-9f9b-ea244d156bd6"
   },
   "source": [
    "# Web Scraping Metacritic for Game Reviews"
   ]
  },
  {
   "cell_type": "markdown",
   "metadata": {
    "focus": false,
    "id": "34681254-c802-462f-829d-8894d0772d08"
   },
   "source": [
    "I'm practicing collecting data through webscraping and some cleaning. Metacritic doesn't have an API but is a great source of compiled critical ratings and user ratings."
   ]
  },
  {
   "cell_type": "markdown",
   "metadata": {
    "focus": false,
    "id": "a948d79c-5527-4c0d-ab23-f5d43ce72056"
   },
   "source": [
    "### Scraping game ratings from Metacritic.com"
   ]
  },
  {
   "cell_type": "markdown",
   "metadata": {
    "focus": true,
    "id": "7203e0c9-e437-4802-a6ad-7dc464f94436"
   },
   "source": [
    "I will be scraping job listings from Metacritic.com using BeautifulSoup."
   ]
  },
  {
   "cell_type": "code",
   "execution_count": 133,
   "metadata": {
    "collapsed": false
   },
   "outputs": [],
   "source": [
    "import requests\n",
    "import bs4\n",
    "from bs4 import BeautifulSoup\n",
    "import urllib\n",
    "from urllib.request import urlopen # changed python 2 code: from urllib import urlopen\n",
    "import pandas as pd\n",
    "import matplotlib as plt\n",
    "import re\n",
    "%matplotlib inline"
   ]
  },
  {
   "cell_type": "markdown",
   "metadata": {},
   "source": [
    "I was getting the following error : \n",
    "    \"HTTPError: HTTP Error 403: Forbidden\"\n",
    "when I was using this code:\n",
    "```python\n",
    "platform = \"all\"; # \"all\", \"ps4, \"\"xboxone\", \"pc\", \"ps3\", \"wii-u\", etc.\n",
    "year = 2016;\n",
    "maxPage = 4; # The first page is page \"0\" in the URL but page 1 on the website UI; enter this number using the UI convention\n",
    "whitespaceBlock = \"                                            \"\n",
    "\n",
    "queries = [];\n",
    "currentPage = 0\n",
    "for i in range (currentPage, maxPage):\n",
    "    URL = \"http://www.metacritic.com/browse/games/score/metascore/year/all/filtered?year_selected=\" + str(year) + \"&sort=desc&page=\" + str(i) \n",
    "    print(URL)\n",
    "    html = urllib.request.urlopen(URL).read() # urllib.urlopen updated\n",
    "    soup = BeautifulSoup(html, \"html.parser\")\n",
    "    print(soup)\n",
    "```\n",
    "            \n",
    "It looks like metacritic blocks non-browser queries.\n",
    "\n",
    "Thus I added the code below to make the site think I'm using a browser:\n",
    "```python\n",
    "user_agent = 'Mozilla/5.0 (Windows; U; Windows NT 5.1; en-US; rv:1.9.0.7) Gecko/2009021910 Firefox/3.0.7'\n",
    "headers={'User-Agent':user_agent,} \n",
    "request=urllib.request.Request(URL,None,headers) \n",
    "response = urllib.request.urlopen(request)\n",
    "data = response.read() \n",
    "```\n",
    "\n",
    "This forum thread helped me get there: https://stackoverflow.com/questions/13303449/urllib2-httperror-http-error-403-forbidden"
   ]
  },
  {
   "cell_type": "markdown",
   "metadata": {},
   "source": [
    "I've constructed the for loop below to go through the first 4 pages of results for games on all platforms from 2016.\n",
    "\n",
    "Let's take a look at this URL: http://www.metacritic.com/browse/games/score/metascore/year/all/filtered?year_selected=2016&sort=desc&page=1\n",
    "\n",
    "We can see that year_selected can be changed for the year we care about and that page can be changed for the page we care about. This page attribute only appears when browsing once you leave the first page. The second page is page=1. Fortunately page=0 gives us the first page, so the coding doesn't get too messy."
   ]
  },
  {
   "cell_type": "code",
   "execution_count": 132,
   "metadata": {
    "collapsed": false
   },
   "outputs": [
    {
     "name": "stdout",
     "output_type": "stream",
     "text": [
      "http://www.metacritic.com/browse/games/score/metascore/year/all/filtered?year_selected=2016&sort=desc&page=0\n",
      "http://www.metacritic.com/browse/games/score/metascore/year/all/filtered?year_selected=2016&sort=desc&page=1\n",
      "http://www.metacritic.com/browse/games/score/metascore/year/all/filtered?year_selected=2016&sort=desc&page=2\n",
      "http://www.metacritic.com/browse/games/score/metascore/year/all/filtered?year_selected=2016&sort=desc&page=3\n"
     ]
    }
   ],
   "source": [
    "platform = \"all\"; # \"all\", \"ps4, \"\"xboxone\", \"pc\", \"ps3\", \"wii-u\", etc.\n",
    "year = 2016;\n",
    "maxPage = 4; # The first page is page \"0\" in the URL but page 1 on the website UI; enter this number using the UI convention\n",
    "\n",
    "currentPage = 0\n",
    "for i in range (currentPage, maxPage):\n",
    "    URL = \"http://www.metacritic.com/browse/games/score/metascore/year/all/filtered?year_selected=\" + str(year) + \"&sort=desc&page=\" + str(i) \n",
    "\n",
    "    print(URL)\n",
    "\n",
    "    user_agent = 'Mozilla/5.0 (Windows; U; Windows NT 5.1; en-US; rv:1.9.0.7) Gecko/2009021910 Firefox/3.0.7'\n",
    "    headers={'User-Agent':user_agent,} \n",
    "    request=urllib.request.Request(URL,None,headers)\n",
    "    response = urllib.request.urlopen(request)\n",
    "    data = response.read()\n",
    "\n",
    "    # print(data)\n",
    "    soup = BeautifulSoup(data, \"html.parser\")\n",
    "    # print(soup)"
   ]
  },
  {
   "cell_type": "markdown",
   "metadata": {},
   "source": [
    "Let's look at part of the html to get a sense of what tags to pull out:\n",
    "\n",
    "```JSON\n",
    "<div class=\"clr\"></div>\n",
    "</div>\n",
    "<div class=\"body_wrap\">\n",
    "<div class=\"product_condensed\">\n",
    "<div class=\"product_rows\">\n",
    "<div class=\"product_row game first\">\n",
    "<div class=\"product_item row_num\">\n",
    "                101.\n",
    "            </div>\n",
    "<div class=\"product_item product_score\">\n",
    "<div class=\"metascore_w small game positive\">84</div>\n",
    "</div>\n",
    "<div class=\"product_item product_title\">\n",
    "<a href=\"/game/pc/darkest-dungeon\">\n",
    "                    Darkest Dungeon\n",
    "                                            (PC)\n",
    "                                    </a>\n",
    "</div>\n",
    "<div class=\"product_item product_userscore_txt\">\n",
    "<span class=\"label\">User:</span>\n",
    "<span class=\"data textscore textscore_favorable\">7.8</span>\n",
    "</div>\n",
    "<div class=\"product_item product_date\">\n",
    "                                                                                                                        Jan 19, 2016\n",
    "            </div>\n",
    "</div>\n",
    "<div class=\"product_row game\">\n",
    "<div class=\"product_item row_num\">\n",
    "                102.\n",
    "            </div>\n",
    "<div class=\"product_item product_score\">\n",
    "<div class=\"metascore_w small game positive\">84</div>\n",
    "</div>\n",
    "<div class=\"product_item product_title\">\n",
    "<a href=\"/game/playstation-4/day-of-the-tentacle-remastered\">\n",
    "                    Day of the Tentacle Remastered\n",
    "                                            (PS4)\n",
    "                                    </a>\n",
    "</div>\n",
    "<div class=\"product_item product_userscore_txt\">\n",
    "<span class=\"label\">User:</span>\n",
    "<span class=\"data textscore textscore_mixed\">7.3</span>\n",
    "</div>\n",
    "<div class=\"product_item product_date\">\n",
    "                                                                                                                        Mar 22, 2016\n",
    "            </div>\n",
    "</div>\n",
    "```"
   ]
  },
  {
   "cell_type": "code",
   "execution_count": 124,
   "metadata": {
    "collapsed": false
   },
   "outputs": [],
   "source": [
    "# print(soup.find_all('div', attrs = {'class':'product_row game'}))"
   ]
  },
  {
   "cell_type": "markdown",
   "metadata": {},
   "source": [
    "For each game we now have html that follows this pattern:\n",
    "```json\n",
    "</div>, <div class=\"product_row game\">\n",
    "<div class=\"product_item row_num\">\n",
    "                399.\n",
    "            </div>\n",
    "<div class=\"product_item product_score\">\n",
    "<div class=\"metascore_w small game positive\">75</div>\n",
    "</div>\n",
    "<div class=\"product_item product_title\">\n",
    "<a href=\"/game/xbox-one/batman-the-telltale-series---episode-4-guardian-of-gotham\">\n",
    "                    Batman: The Telltale Series - Episode 4: Guardian of Gotham\n",
    "                                            (XONE)\n",
    "                                    </a>\n",
    "</div>\n",
    "<div class=\"product_item product_userscore_txt\">\n",
    "<span class=\"label\">User:</span>\n",
    "<span class=\"data textscore textscore_mixed\">5.1</span>\n",
    "</div>\n",
    "<div class=\"product_item product_date\">\n",
    "                                                                                                                        Nov 22, 2016\n",
    "            </div>\n",
    "</div>]\n",
    "```\n",
    "\n",
    "That means we can now find each game by using: \n",
    "```python\n",
    "soup.find_all('div', attrs = {'class':'product_row game'})\n",
    "```"
   ]
  },
  {
   "cell_type": "markdown",
   "metadata": {},
   "source": [
    "Debugging the for loop:"
   ]
  },
  {
   "cell_type": "code",
   "execution_count": 131,
   "metadata": {
    "collapsed": false
   },
   "outputs": [],
   "source": [
    "for games in soup.find_all('div', class_='product_row game'):\n",
    "    title_and_platform = games.find('div', class_='product_item product_title').find('a').text    \n",
    "    title_and_platform = str(title_and_platform).replace(\"  \", \"\") # removes any spaces more than one in a row\n",
    "    title = re.findall('(.*?)\\n', title_and_platform)[1] # takes the second line, which is the title\n",
    "    platform = re.findall('\\n\\((.*?)\\)', title_and_platform)\n",
    "    platform = str(platform)\n",
    "    critic_score = games.find('div', class_='product_item product_score').text\n",
    "    critic_score = str(critic_score).replace(\"  \", \"\") # removes any spaces more than one in a row\n",
    "    critic_score = str(critic_score).replace('/n', \"\") # removes any new lines\n",
    "    user_score = games.find('span', attrs = {\"class\": re.compile(\"(data textscore .*?)\")}).text     \n",
    "    # user_score = games.find('div', attrs = {\"class\": \"product_item product_userscore_txt\"}).find('span', attrs = {\"class\": re.compile(\"(data textscore .*?)\")}).contents # this works equally well, and is a more careful coding in case \"data textscore\" was reused somewhere else\n",
    "    if user_score != 'tbd':\n",
    "        user_score = int(float(str(user_score))*10) # The critic scores are out of 100, while the user scores are out of 10 - normalize them here\n",
    "    release_date = games.find('div', class_='product_item product_date').text\n",
    "    release_date = str(release_date).replace(\"  \", \"\") # removes any spaces more than one in a row\n",
    "    #df = df.append({\"title\":title, \"platform\":platform, \"critic_score\": critic_score, \"user_score\": user_score, \"release_date\": release_date}, ignore_index=True) \n",
    "    # print(release_date) # working\n",
    "    # print(user_score) # working\n",
    "    # print(title_and_platform) # working\n",
    "    # print(title) # working\n",
    "    # print(platform) # working\n",
    "    # print(critic_score) # working"
   ]
  },
  {
   "cell_type": "markdown",
   "metadata": {},
   "source": [
    "Alright, let's put everything together into a for loop that will go through the first 4 pages and give us the title, platform, critic, user, and release date for each game:"
   ]
  },
  {
   "cell_type": "code",
   "execution_count": 130,
   "metadata": {
    "collapsed": false
   },
   "outputs": [
    {
     "data": {
      "text/html": [
       "<div>\n",
       "<style>\n",
       "    .dataframe thead tr:only-child th {\n",
       "        text-align: right;\n",
       "    }\n",
       "\n",
       "    .dataframe thead th {\n",
       "        text-align: left;\n",
       "    }\n",
       "\n",
       "    .dataframe tbody tr th {\n",
       "        vertical-align: top;\n",
       "    }\n",
       "</style>\n",
       "<table border=\"1\" class=\"dataframe\">\n",
       "  <thead>\n",
       "    <tr style=\"text-align: right;\">\n",
       "      <th></th>\n",
       "      <th>title</th>\n",
       "      <th>platform</th>\n",
       "      <th>critic_score</th>\n",
       "      <th>user_score</th>\n",
       "      <th>release_date</th>\n",
       "    </tr>\n",
       "  </thead>\n",
       "  <tbody>\n",
       "    <tr>\n",
       "      <th>0</th>\n",
       "      <td>INSIDE</td>\n",
       "      <td>[XONE]</td>\n",
       "      <td>93</td>\n",
       "      <td>82</td>\n",
       "      <td>Jun 29, 2016</td>\n",
       "    </tr>\n",
       "    <tr>\n",
       "      <th>1</th>\n",
       "      <td>Out of the Park Baseball 17</td>\n",
       "      <td>[PC]</td>\n",
       "      <td>92</td>\n",
       "      <td>34</td>\n",
       "      <td>Mar 22, 2016</td>\n",
       "    </tr>\n",
       "    <tr>\n",
       "      <th>2</th>\n",
       "      <td>The Witcher 3: Wild Hunt - Blood and Wine</td>\n",
       "      <td>[PC]</td>\n",
       "      <td>92</td>\n",
       "      <td>92</td>\n",
       "      <td>May 30, 2016</td>\n",
       "    </tr>\n",
       "    <tr>\n",
       "      <th>3</th>\n",
       "      <td>Overwatch</td>\n",
       "      <td>[PC]</td>\n",
       "      <td>91</td>\n",
       "      <td>68</td>\n",
       "      <td>May 23, 2016</td>\n",
       "    </tr>\n",
       "    <tr>\n",
       "      <th>4</th>\n",
       "      <td>Overwatch</td>\n",
       "      <td>[XONE]</td>\n",
       "      <td>91</td>\n",
       "      <td>57</td>\n",
       "      <td>May 23, 2016</td>\n",
       "    </tr>\n",
       "  </tbody>\n",
       "</table>\n",
       "</div>"
      ],
      "text/plain": [
       "                                       title platform critic_score user_score  \\\n",
       "0                                     INSIDE   [XONE]           93         82   \n",
       "1                Out of the Park Baseball 17     [PC]           92         34   \n",
       "2  The Witcher 3: Wild Hunt - Blood and Wine     [PC]           92         92   \n",
       "3                                  Overwatch     [PC]           91         68   \n",
       "4                                  Overwatch   [XONE]           91         57   \n",
       "\n",
       "   release_date  \n",
       "0  Jun 29, 2016  \n",
       "1  Mar 22, 2016  \n",
       "2  May 30, 2016  \n",
       "3  May 23, 2016  \n",
       "4  May 23, 2016  "
      ]
     },
     "execution_count": 130,
     "metadata": {},
     "output_type": "execute_result"
    }
   ],
   "source": [
    "df = pd.DataFrame(columns=[\"title\", \"platform\", \"critic_score\", \"user_score\", \"release_date\"])\n",
    "\n",
    "for i in range (currentPage, maxPage):\n",
    "    URL = \"http://www.metacritic.com/browse/games/score/metascore/year/all/filtered?year_selected=\" + str(year) + \"&sort=desc&page=\" + str(i) \n",
    "    user_agent = 'Mozilla/5.0 (Windows; U; Windows NT 5.1; en-US; rv:1.9.0.7) Gecko/2009021910 Firefox/3.0.7'\n",
    "    headers={'User-Agent':user_agent,} \n",
    "    request=urllib.request.Request(URL,None,headers)\n",
    "    response = urllib.request.urlopen(request)\n",
    "    data = response.read()\n",
    "    soup = BeautifulSoup(data, \"html.parser\")\n",
    "\n",
    "    for games in soup.find_all('div', class_='product_row game'):\n",
    "        title_and_platform = games.find('div', class_='product_item product_title').find('a').text    \n",
    "        title_and_platform = str(title_and_platform).replace(\"  \", \"\") # removes any spaces more than one in a row\n",
    "        title = re.findall('(.*?)\\n', title_and_platform)[1] # takes the second line, which is the title\n",
    "        platform = re.findall('\\n\\((.*?)\\)', title_and_platform)\n",
    "        critic_score = games.find('div', class_='product_item product_score').text\n",
    "        critic_score = str(critic_score).replace(\"  \", \"\") # removes any spaces more than one in a row\n",
    "        critic_score = str(critic_score).replace('\\n', \"\") # removes any new lines\n",
    "        user_score = games.find('span', attrs = {\"class\": re.compile(\"(data textscore .*?)\")}).text     \n",
    "        # user_score = games.find('div', attrs = {\"class\": \"product_item product_userscore_txt\"}).find('span', attrs = {\"class\": re.compile(\"(data textscore .*?)\")}).contents # this works equally well, and is a more careful coding in case \"data textscore\" was reused somewhere else\n",
    "        if user_score != 'tbd':\n",
    "            user_score = int(float(str(user_score))*10) # The critic scores are out of 100, while the user scores are out of 10 - normalize them here\n",
    "        release_date = games.find('div', class_='product_item product_date').text\n",
    "        release_date = str(release_date).replace(\"  \", \"\") # removes any spaces more than one in a row\n",
    "        release_date = str(release_date).replace('\\n', \"\") # removes any new lines\n",
    "        df = df.append({\"title\":title, \"platform\":platform, \"critic_score\": critic_score, \"user_score\": user_score, \"release_date\": release_date}, ignore_index=True) \n",
    "   \n",
    "df.head()        "
   ]
  },
  {
   "cell_type": "code",
   "execution_count": 135,
   "metadata": {
    "collapsed": true
   },
   "outputs": [],
   "source": [
    "# save as csv\n",
    "# df.to_csv(\"~/Desktop/Metacritic-10-29-2017.csv\" , sep=',', encoding='utf-8')"
   ]
  },
  {
   "cell_type": "markdown",
   "metadata": {},
   "source": [
    "Future directions:\n",
    "---\n",
    "I'll look for \n",
    "\n",
    "1) patterns across critical score and platform \n",
    "\n",
    "2) how well correlated critical score and user score are\n",
    "\n",
    "3) visualize these patterns"
   ]
  },
  {
   "cell_type": "markdown",
   "metadata": {},
   "source": [
    "Crediting sources/inspiration:\n",
    "---\n",
    "I did model parts of my code around both of these sources, but most of the code here is is my own.\n",
    "\n",
    "As a starting point for this, I used the notebook from here: http://nbviewer.jupyter.org/github/rowandl/portfolio/blob/master/Webscraping%20Indeed.com/Webscraping%20Indeed.ipynb\n",
    "\n",
    "and I had a look at the code from this github:\n",
    "https://github.com/ogienma/game-review-analysis/blob/master/review-scraper.js"
   ]
  },
  {
   "cell_type": "code",
   "execution_count": null,
   "metadata": {
    "collapsed": true
   },
   "outputs": [],
   "source": []
  }
 ],
 "metadata": {
  "anaconda-cloud": {},
  "kernelspec": {
   "display_name": "Python 3",
   "language": "python",
   "name": "python3"
  },
  "language_info": {
   "codemirror_mode": {
    "name": "ipython",
    "version": 3
   },
   "file_extension": ".py",
   "mimetype": "text/x-python",
   "name": "python",
   "nbconvert_exporter": "python",
   "pygments_lexer": "ipython3",
   "version": "3.6.0"
  }
 },
 "nbformat": 4,
 "nbformat_minor": 1
}
